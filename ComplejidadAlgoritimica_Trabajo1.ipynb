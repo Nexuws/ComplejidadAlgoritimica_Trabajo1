{
  "nbformat": 4,
  "nbformat_minor": 0,
  "metadata": {
    "colab": {
      "name": "ComplejidadAlgoritimica_Trabajo1.ipynb",
      "provenance": [],
      "collapsed_sections": []
    },
    "kernelspec": {
      "name": "python3",
      "display_name": "Python 3"
    },
    "language_info": {
      "name": "python"
    }
  },
  "cells": [
    {
      "cell_type": "markdown",
      "source": [
        "# **Complejidad Computacional**\n",
        "\n",
        "Unidad: Complejidad Algorítmica\n",
        "\n",
        "Profesor: Luis Chamba-Eras\n",
        "\n",
        "Estudiante: Jose Sebastian Gomez Maldonado"
      ],
      "metadata": {
        "id": "bg7Pr0xIGZuh"
      }
    },
    {
      "cell_type": "markdown",
      "source": [
        "Algoritmo 1:"
      ],
      "metadata": {
        "id": "2V6_xTeRHnVD"
      }
    },
    {
      "cell_type": "code",
      "source": [
        "def fact(n):\n",
        "    product = 1\n",
        "    for i in range(n):\n",
        "        product = product * (i+1)\n",
        "    return product\n",
        "\n",
        "print (fact(7))"
      ],
      "metadata": {
        "colab": {
          "base_uri": "https://localhost:8080/"
        },
        "id": "F1FGuL7THe1P",
        "outputId": "f5c6dc69-6762-4edd-fdec-2347422b70a4"
      },
      "execution_count": null,
      "outputs": [
        {
          "output_type": "stream",
          "name": "stdout",
          "text": [
            "5040\n"
          ]
        }
      ]
    },
    {
      "cell_type": "markdown",
      "source": [
        "Algoritmo 2:"
      ],
      "metadata": {
        "id": "_j9isgw2HrMc"
      }
    },
    {
      "cell_type": "code",
      "source": [
        "def fact2(n):\n",
        "    if n == 0:\n",
        "        return 1\n",
        "    else:\n",
        "        return n * fact2(n-1)\n",
        "print (fact2(6))"
      ],
      "metadata": {
        "colab": {
          "base_uri": "https://localhost:8080/"
        },
        "id": "7ezj3DJ3HtcR",
        "outputId": "c952c674-a806-42f9-c90d-c882958cdd2b"
      },
      "execution_count": null,
      "outputs": [
        {
          "output_type": "stream",
          "name": "stdout",
          "text": [
            "720\n"
          ]
        }
      ]
    },
    {
      "cell_type": "markdown",
      "source": [
        "Tiempo de ejecución de los algoritmos:"
      ],
      "metadata": {
        "id": "J4lMldv-JrDs"
      }
    },
    {
      "cell_type": "code",
      "source": [
        "#Algoritmo 1\n",
        "%timeit fact(600)"
      ],
      "metadata": {
        "colab": {
          "base_uri": "https://localhost:8080/"
        },
        "id": "653gHsDVJvMP",
        "outputId": "3ad7816f-4401-4f50-bc95-57c5dbdad691"
      },
      "execution_count": null,
      "outputs": [
        {
          "output_type": "stream",
          "name": "stdout",
          "text": [
            "10000 loops, best of 5: 117 µs per loop\n"
          ]
        }
      ]
    },
    {
      "cell_type": "code",
      "source": [
        "\n",
        "#Algoritmo 2\n",
        "%timeit fact2(500)"
      ],
      "metadata": {
        "colab": {
          "base_uri": "https://localhost:8080/"
        },
        "id": "8dczON2kJ-5Q",
        "outputId": "92afc062-c7dc-4dbd-c33e-9802f8ce042e"
      },
      "execution_count": null,
      "outputs": [
        {
          "output_type": "stream",
          "name": "stdout",
          "text": [
            "10000 loops, best of 5: 147 µs per loop\n"
          ]
        }
      ]
    },
    {
      "cell_type": "markdown",
      "source": [
        "Complejidad Constante:"
      ],
      "metadata": {
        "id": "JhvlASZGLzoi"
      }
    },
    {
      "cell_type": "code",
      "source": [
        "def constant_algo(items):\n",
        "    result = items[0] * items[0]\n",
        "    print (result)\n",
        "\n",
        "constant_algo([9, 8, 56, 8])"
      ],
      "metadata": {
        "colab": {
          "base_uri": "https://localhost:8080/"
        },
        "id": "8OqhzUbTL2Ly",
        "outputId": "6b398b0e-29d0-46aa-ea6f-1da6f3d215e2"
      },
      "execution_count": null,
      "outputs": [
        {
          "output_type": "stream",
          "name": "stdout",
          "text": [
            "81\n"
          ]
        }
      ]
    },
    {
      "cell_type": "code",
      "source": [
        "import matplotlib.pyplot as plt\n",
        "import numpy as np\n",
        "\n",
        "x = [1, 0, 5, 9, 7, 2]\n",
        "\n",
        "y = [2, 2, 2, 2, 2, 2]\n",
        "\n",
        "plt.plot(x, y, 'b')\n",
        "plt.xlabel('Entradas')\n",
        "plt.ylabel('Pasos')\n",
        "plt.title('Complejidad Constante')\n",
        "plt.show()"
      ],
      "metadata": {
        "colab": {
          "base_uri": "https://localhost:8080/",
          "height": 295
        },
        "id": "_0ud7HPWMf5y",
        "outputId": "093b6526-c475-4abe-efd8-eefc4dbd9a32"
      },
      "execution_count": null,
      "outputs": [
        {
          "output_type": "display_data",
          "data": {
            "image/png": "[encoded data removed]",
            "text/plain": [
              "<Figure size 432x288 with 1 Axes>"
            ]
          },
          "metadata": {
            "needs_background": "light"
          }
        }
      ]
    },
    {
      "cell_type": "markdown",
      "source": [
        "Complejidad Lineal:"
      ],
      "metadata": {
        "id": "nghTsN-wM7KN"
      }
    },
    {
      "cell_type": "code",
      "source": [
        "def linear_algo(items):\n",
        "    for item in items:\n",
        "        print(item)\n",
        "\n",
        "linear_algo([7, 5, 6, 8])"
      ],
      "metadata": {
        "colab": {
          "base_uri": "https://localhost:8080/"
        },
        "id": "lNBH1237NHOo",
        "outputId": "cae5751e-2b8b-49eb-a86a-39bd1d30e303"
      },
      "execution_count": null,
      "outputs": [
        {
          "output_type": "stream",
          "name": "stdout",
          "text": [
            "7\n",
            "5\n",
            "6\n",
            "8\n"
          ]
        }
      ]
    },
    {
      "cell_type": "code",
      "source": [
        "import matplotlib.pyplot as plt\n",
        "import numpy as np\n",
        "\n",
        "x = [2, 4, 6, 85, 10, 12]\n",
        "\n",
        "y = [2, 4, 6, 85, 10, 12]\n",
        "\n",
        "plt.plot(x, y, 'b')\n",
        "plt.xlabel('Entradas')\n",
        "plt.ylabel('Pasos')\n",
        "plt.title('Complejidad Lineal')\n",
        "plt.show()"
      ],
      "metadata": {
        "colab": {
          "base_uri": "https://localhost:8080/",
          "height": 295
        },
        "id": "_AlUCPutNPyB",
        "outputId": "9014fa6d-fb8f-4756-c69e-5bd3981636e3"
      },
      "execution_count": null,
      "outputs": [
        {
          "output_type": "display_data",
          "data": {
            "image/png": "[encoded data removed]",
            "text/plain": [
              "<Figure size 432x288 with 1 Axes>"
            ]
          },
          "metadata": {
            "needs_background": "light"
          }
        }
      ]
    },
    {
      "cell_type": "code",
      "source": [
        "def linear_algo(items):\n",
        "    for item in items:\n",
        "        print(item)\n",
        "\n",
        "    for item in items:\n",
        "        print(item)\n",
        "\n",
        "linear_algo([4, 25, 6, 8])"
      ],
      "metadata": {
        "colab": {
          "base_uri": "https://localhost:8080/"
        },
        "id": "2TgjHQhzNhTj",
        "outputId": "b81b0853-7c1a-4e7b-9708-4c50be536325"
      },
      "execution_count": null,
      "outputs": [
        {
          "output_type": "stream",
          "name": "stdout",
          "text": [
            "4\n",
            "25\n",
            "6\n",
            "8\n",
            "4\n",
            "25\n",
            "6\n",
            "8\n"
          ]
        }
      ]
    },
    {
      "cell_type": "code",
      "source": [
        "import matplotlib.pyplot as plt\n",
        "import numpy as np\n",
        "\n",
        "x = [2, 4, 6, 8, 100, 12]\n",
        "\n",
        "y = [4, 8, 12, 16, 200, 24]\n",
        "\n",
        "plt.plot(x, y, 'b')\n",
        "plt.xlabel('Entradas')\n",
        "plt.ylabel('Pasos')\n",
        "plt.title('Complejidad Lineal')\n",
        "plt.show()"
      ],
      "metadata": {
        "colab": {
          "base_uri": "https://localhost:8080/",
          "height": 295
        },
        "id": "liJPVeTVNr2d",
        "outputId": "2c1be4ae-9e3b-489c-ab52-0dea472abb7f"
      },
      "execution_count": null,
      "outputs": [
        {
          "output_type": "display_data",
          "data": {
            "image/png": "[encoded data removed]",
            "text/plain": [
              "<Figure size 432x288 with 1 Axes>"
            ]
          },
          "metadata": {
            "needs_background": "light"
          }
        }
      ]
    },
    {
      "cell_type": "markdown",
      "source": [
        "Complejidad Cuadrática:"
      ],
      "metadata": {
        "id": "LVUKDf68N87q"
      }
    },
    {
      "cell_type": "code",
      "source": [
        "def quadratic_algo(items):\n",
        "    for item in items:\n",
        "        for item2 in items:\n",
        "            print(item, ' ' ,item)\n",
        "\n",
        "quadratic_algo([4, 5, 6, 5, 2, 1, 0])"
      ],
      "metadata": {
        "colab": {
          "base_uri": "https://localhost:8080/"
        },
        "id": "2A8n1gS8OAbb",
        "outputId": "85ddb492-92b5-4b3d-a93f-0ed63c51e892"
      },
      "execution_count": null,
      "outputs": [
        {
          "output_type": "stream",
          "name": "stdout",
          "text": [
            "4   4\n",
            "4   4\n",
            "4   4\n",
            "4   4\n",
            "4   4\n",
            "4   4\n",
            "4   4\n",
            "5   5\n",
            "5   5\n",
            "5   5\n",
            "5   5\n",
            "5   5\n",
            "5   5\n",
            "5   5\n",
            "6   6\n",
            "6   6\n",
            "6   6\n",
            "6   6\n",
            "6   6\n",
            "6   6\n",
            "6   6\n",
            "5   5\n",
            "5   5\n",
            "5   5\n",
            "5   5\n",
            "5   5\n",
            "5   5\n",
            "5   5\n",
            "2   2\n",
            "2   2\n",
            "2   2\n",
            "2   2\n",
            "2   2\n",
            "2   2\n",
            "2   2\n",
            "1   1\n",
            "1   1\n",
            "1   1\n",
            "1   1\n",
            "1   1\n",
            "1   1\n",
            "1   1\n",
            "0   0\n",
            "0   0\n",
            "0   0\n",
            "0   0\n",
            "0   0\n",
            "0   0\n",
            "0   0\n"
          ]
        }
      ]
    },
    {
      "cell_type": "markdown",
      "source": [
        "Complejidad de funciones complejas"
      ],
      "metadata": {
        "id": "RnSy2tFHOc0e"
      }
    },
    {
      "cell_type": "code",
      "source": [
        "def complex_algo(items):\n",
        "\n",
        "    for i in range(5):\n",
        "        print (\"Python es fenomenal\")\n",
        "\n",
        "    for item in items:\n",
        "        print(item)\n",
        "\n",
        "    for item in items:\n",
        "        print(item)\n",
        "\n",
        "    print(\"Big O\")\n",
        "    print(\"Big O\")\n",
        "    print(\"Big O\")\n",
        "\n",
        "complex_algo([4, 8, 6, 8, 6])"
      ],
      "metadata": {
        "colab": {
          "base_uri": "https://localhost:8080/"
        },
        "id": "GkHtnXzPOaGL",
        "outputId": "a5375155-398c-4dc1-fa4b-baab3fd3e3fc"
      },
      "execution_count": null,
      "outputs": [
        {
          "output_type": "stream",
          "name": "stdout",
          "text": [
            "Python es fenomenal\n",
            "Python es fenomenal\n",
            "Python es fenomenal\n",
            "Python es fenomenal\n",
            "Python es fenomenal\n",
            "4\n",
            "8\n",
            "6\n",
            "8\n",
            "6\n",
            "4\n",
            "8\n",
            "6\n",
            "8\n",
            "6\n",
            "Big O\n",
            "Big O\n",
            "Big O\n"
          ]
        }
      ]
    },
    {
      "cell_type": "markdown",
      "source": [
        "O(8) + O(2n) => O(8) + O(n)"
      ],
      "metadata": {
        "id": "uuJVRLCxPL-o"
      }
    },
    {
      "cell_type": "markdown",
      "source": [
        "Peor vs mejor complejidad de caso"
      ],
      "metadata": {
        "id": "nx1PjpaJPYps"
      }
    },
    {
      "cell_type": "code",
      "source": [
        "def search_algo(num, items):\n",
        "    for item in items:\n",
        "        if item == num:\n",
        "            return True\n",
        "        else:\n",
        "            return False\n",
        "nums = [2,4,6,8,10,6]\n",
        "\n",
        "print(search_algo(6, nums))"
      ],
      "metadata": {
        "colab": {
          "base_uri": "https://localhost:8080/"
        },
        "id": "7ckEJEbFPhsr",
        "outputId": "9d57d4d3-57c4-4d7b-a394-afaf34b536d1"
      },
      "execution_count": null,
      "outputs": [
        {
          "output_type": "stream",
          "name": "stdout",
          "text": [
            "False\n"
          ]
        }
      ]
    },
    {
      "cell_type": "markdown",
      "source": [
        "Complejidad Espacial:"
      ],
      "metadata": {
        "id": "ufl7GmqyQdm0"
      }
    },
    {
      "cell_type": "code",
      "source": [
        "def return_squares(n):\n",
        "    square_list = []\n",
        "    for num in n:\n",
        "        square_list.append(num * num)\n",
        "\n",
        "    return square_list\n",
        "\n",
        "nums = [2, 4, 6, 8, 10, 120394]\n",
        "print(return_squares(nums))"
      ],
      "metadata": {
        "colab": {
          "base_uri": "https://localhost:8080/"
        },
        "id": "CuJx6L5uQhHT",
        "outputId": "21b43669-7eb4-4901-c169-4fe73eb2ae59"
      },
      "execution_count": null,
      "outputs": [
        {
          "output_type": "stream",
          "name": "stdout",
          "text": [
            "[4, 16, 36, 64, 100, 14494715236]\n"
          ]
        }
      ]
    }
  ]
}